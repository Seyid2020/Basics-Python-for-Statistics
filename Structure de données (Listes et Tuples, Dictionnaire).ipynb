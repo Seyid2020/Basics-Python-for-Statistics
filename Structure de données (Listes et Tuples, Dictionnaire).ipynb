{
 "cells": [
  {
   "cell_type": "markdown",
   "id": "61009362",
   "metadata": {},
   "source": [
    "# Structure de données (Listes et Tuples, Dictionnaire)"
   ]
  },
  {
   "cell_type": "markdown",
   "id": "90f7f5e2",
   "metadata": {},
   "source": [
    "#Une structure de données est une **variable(case)** capable de contenir plusieurs valeurs a la fois. \n",
    "\n",
    "- Une structure de données peut former une séquence si leurs valeurs qui la composent sont rangées \n",
    "dans un certains ordre.\n",
    "- C'est le cas des **listes** et des **tuples**.\n",
    "- A l'inverse un **Dictionnaire** ne forme pas une séquence.\n",
    "\n",
    "- Une liste ou un tuple peuvent contenir tout types de valeurs (int, float, bool, string). On dit que ce sont des structures hétérogenes.\n",
    "\n",
    "- La différence entre les 2 est qu'une liste est **changable** alors qu'un Tuple n'est pas **changable** (on ne peut pas le changer apres qu'il soit crée)."
   ]
  },
  {
   "cell_type": "markdown",
   "id": "7296e69f",
   "metadata": {},
   "source": [
    "# Listes"
   ]
  },
  {
   "cell_type": "code",
   "execution_count": 110,
   "id": "c1446dfc",
   "metadata": {},
   "outputs": [
    {
     "data": {
      "text/plain": [
       "['1st year', '2st year', '3rd year']"
      ]
     },
     "execution_count": 110,
     "metadata": {},
     "output_type": "execute_result"
    }
   ],
   "source": [
    "Date = [2020, 2021, 2022]\n",
    "Years = ['1st year', '2st year', '3rd year']\n",
    "#Date \n",
    "Years\n"
   ]
  },
  {
   "cell_type": "code",
   "execution_count": 111,
   "id": "110ea4d0",
   "metadata": {},
   "outputs": [
    {
     "data": {
      "text/plain": [
       "[[2020, 2021, 2022], ['1st year', '2st year', '3rd year']]"
      ]
     },
     "execution_count": 111,
     "metadata": {},
     "output_type": "execute_result"
    }
   ],
   "source": [
    "Years_thesis= [Date,Years]# Concetnate two listes -> liste \n",
    "Years_thesis"
   ]
  },
  {
   "cell_type": "code",
   "execution_count": 112,
   "id": "17d4c1c5",
   "metadata": {},
   "outputs": [
    {
     "data": {
      "text/plain": [
       "[True, False, 'Yes', 1.5, 48]"
      ]
     },
     "execution_count": 112,
     "metadata": {},
     "output_type": "execute_result"
    }
   ],
   "source": [
    "liste_All_type= [True, False, 'Yes', 1.5, 48]\n",
    "liste_All_type"
   ]
  },
  {
   "cell_type": "markdown",
   "id": "e6e8e48b",
   "metadata": {},
   "source": [
    "# Tuples"
   ]
  },
  {
   "cell_type": "code",
   "execution_count": 113,
   "id": "5d9c2e71",
   "metadata": {},
   "outputs": [
    {
     "data": {
      "text/plain": [
       "(True, False, 'Yes', 1.5, 48)"
      ]
     },
     "execution_count": 113,
     "metadata": {},
     "output_type": "execute_result"
    }
   ],
   "source": [
    "Tuple_All_types= (True, False, 'Yes', 1.5, 48)\n",
    "Tuple_All_types"
   ]
  },
  {
   "cell_type": "markdown",
   "id": "39b4b042",
   "metadata": {},
   "source": [
    "# Indexing and  Slicing into liste and tuples "
   ]
  },
  {
   "cell_type": "markdown",
   "id": "666b151a",
   "metadata": {},
   "source": [
    "- Dans une **séquence**, chaque élément est rangé selon un **index** (le premier index étant l'index** 0**)\n",
    "\n",
    "- Pour acceder a un élément d'une liste ou d'un tuple, on utilise une technique appelée *Indexing*\n",
    "\n",
    "- Pour acceder a plusieurs éléments d'une liste ou d'un tuple, on utilie une technique appelée *Slicing*"
   ]
  },
  {
   "cell_type": "markdown",
   "id": "e4935b7d",
   "metadata": {},
   "source": [
    "# INDEXING"
   ]
  },
  {
   "cell_type": "code",
   "execution_count": 114,
   "id": "bb0928fe",
   "metadata": {
    "scrolled": true
   },
   "outputs": [
    {
     "name": "stdout",
     "output_type": "stream",
     "text": [
      "liste complete: ['1st year', '2st year', '3rd year']\n",
      "Index 0: 1st year\n",
      "Index 1: 2st year\n",
      "Last index (-1): 3rd year\n",
      "Last index (2) : 3rd year\n"
     ]
    }
   ],
   "source": [
    "print('liste complete:', Years)\n",
    "print('Index 0:',Years [0])\n",
    "print('Index 1:', Years[1])\n",
    "print('Last index (-1):', Years[-1])\n",
    "print('Last index (2) :', Years[2] )"
   ]
  },
  {
   "cell_type": "markdown",
   "id": "fffe4971",
   "metadata": {},
   "source": [
    "# SLICING"
   ]
  },
  {
   "cell_type": "code",
   "execution_count": 115,
   "id": "a96eab84",
   "metadata": {},
   "outputs": [
    {
     "name": "stdout",
     "output_type": "stream",
     "text": [
      "séquence complete: ['1st year', '2st year', '3rd year']\n",
      "index 0-2: ['1st year', '2st year', '3rd year']\n",
      "index 1-2: ['2st year', '3rd year']\n",
      "index 0-1: ['1st year']\n",
      "reverse order: ['3rd year', '2st year', '1st year']\n"
     ]
    }
   ],
   "source": [
    "# SLICING [début (inclus) : fin (exclus) : pas = 1 (par defaut)]\n",
    "print('séquence complete:',Years )\n",
    "print('index 0-2:', Years[0:3])\n",
    "print('index 1-2:', Years[1:3])\n",
    "print('index 0-1:', Years[0:1])\n",
    "print('reverse order:', Years[::-1])\n"
   ]
  },
  {
   "cell_type": "markdown",
   "id": "debcf714",
   "metadata": {},
   "source": [
    "# Manipulation of listes "
   ]
  },
  {
   "cell_type": "code",
   "execution_count": 116,
   "id": "e5617276",
   "metadata": {},
   "outputs": [
    {
     "name": "stdout",
     "output_type": "stream",
     "text": [
      "['1st year', '2st year', '3rd year', '4th year']\n"
     ]
    }
   ],
   "source": [
    "Years.append('4th year') # ajoute un élément a la fin de la liste\n",
    "print(Years)"
   ]
  },
  {
   "cell_type": "code",
   "execution_count": 117,
   "id": "24c057b5",
   "metadata": {},
   "outputs": [
    {
     "name": "stdout",
     "output_type": "stream",
     "text": [
      "['0 year ', '1st year', '2st year', '3rd year', '4th year']\n"
     ]
    }
   ],
   "source": [
    "Years.insert(0, '0 year ') # ajoute un élément a l'index indiqué( precisé)\n",
    "print(Years)"
   ]
  },
  {
   "cell_type": "code",
   "execution_count": 118,
   "id": "4ad9b0b5",
   "metadata": {},
   "outputs": [
    {
     "name": "stdout",
     "output_type": "stream",
     "text": [
      "['0 year ', '1st year', '2st year', '3rd year', '4th year', '5th year', '6th year']\n"
     ]
    }
   ],
   "source": [
    "Years.extend(['5th year','6th year']) # ajoute une nouvelle  liste a la fin de notre liste\n",
    "print(Years)"
   ]
  },
  {
   "cell_type": "code",
   "execution_count": 119,
   "id": "cab53f15",
   "metadata": {},
   "outputs": [
    {
     "name": "stdout",
     "output_type": "stream",
     "text": [
      "longeur de la liste: 7\n"
     ]
    }
   ],
   "source": [
    "print('longeur de la liste:', len(Years)) #affiche la longueur de la liste\n"
   ]
  },
  {
   "cell_type": "code",
   "execution_count": 120,
   "id": "9dcfe434",
   "metadata": {},
   "outputs": [
    {
     "name": "stdout",
     "output_type": "stream",
     "text": [
      "['0 year ', '1st year', '2st year', '3rd year', '4th year', '5th year', '6th year']\n"
     ]
    }
   ],
   "source": [
    "Years.sort(reverse=False) # trie la liste par ordre alphabétique / numérique\n",
    "print(Years)"
   ]
  },
  {
   "cell_type": "code",
   "execution_count": 121,
   "id": "3f3dbb3a",
   "metadata": {},
   "outputs": [
    {
     "name": "stdout",
     "output_type": "stream",
     "text": [
      "1\n"
     ]
    }
   ],
   "source": [
    "print(Years.count('6th year')) # compte le nombre de fois qu'un élément apparait dans la liste\n"
   ]
  },
  {
   "cell_type": "code",
   "execution_count": 122,
   "id": "d079697a",
   "metadata": {},
   "outputs": [
    {
     "data": {
      "text/plain": [
       "6"
      ]
     },
     "execution_count": 122,
     "metadata": {},
     "output_type": "execute_result"
    }
   ],
   "source": [
    "Years.index('6th year') # l'indice d'un element dans la liste "
   ]
  },
  {
   "cell_type": "markdown",
   "id": "3ef317bd",
   "metadata": {},
   "source": [
    "# Les structures de Controle sont utiles pour mainpules les listes "
   ]
  },
  {
   "cell_type": "code",
   "execution_count": 123,
   "id": "f5b1bc1d",
   "metadata": {},
   "outputs": [
    {
     "name": "stdout",
     "output_type": "stream",
     "text": [
      "No\n"
     ]
    }
   ],
   "source": [
    "# Verified if element into a list \n",
    "if '7th year' in Years :\n",
    "  print('Yes')\n",
    "else:\n",
    "  print('No')"
   ]
  },
  {
   "cell_type": "code",
   "execution_count": 124,
   "id": "6d37e620",
   "metadata": {},
   "outputs": [
    {
     "name": "stdout",
     "output_type": "stream",
     "text": [
      "Yes\n"
     ]
    }
   ],
   "source": [
    "if '6th year' in Years :\n",
    "  print('Yes')\n",
    "else:\n",
    "  print('No')"
   ]
  },
  {
   "cell_type": "code",
   "execution_count": 125,
   "id": "d416a2d3",
   "metadata": {},
   "outputs": [
    {
     "name": "stdout",
     "output_type": "stream",
     "text": [
      "0 year \n",
      "1st year\n",
      "2st year\n",
      "3rd year\n",
      "4th year\n",
      "5th year\n",
      "6th year\n"
     ]
    }
   ],
   "source": [
    "# Print all element into  a list using For \n",
    "for element in Years:\n",
    "  print(element)"
   ]
  },
  {
   "cell_type": "code",
   "execution_count": 126,
   "id": "475d3a50",
   "metadata": {},
   "outputs": [
    {
     "name": "stdout",
     "output_type": "stream",
     "text": [
      "0 0 year \n",
      "1 1st year\n",
      "2 2st year\n",
      "3 3rd year\n",
      "4 4th year\n",
      "5 5th year\n",
      "6 6th year\n"
     ]
    }
   ],
   "source": [
    "#The enumerate function is very useful to output both the elements of a list and their indexes.\n",
    "for index, element in enumerate(Years):\n",
    "  print(index, element)"
   ]
  },
  {
   "cell_type": "code",
   "execution_count": 127,
   "id": "7ce14942",
   "metadata": {},
   "outputs": [
    {
     "name": "stdout",
     "output_type": "stream",
     "text": [
      "2020 0 year \n",
      "2021 1st year\n",
      "2022 2st year\n"
     ]
    }
   ],
   "source": [
    "# The zip function is also useful for iterating through 2 parallel lists. \n",
    "#If one list is shorter than the other, the for loop stops with the shortest list\n",
    "for element_1, element_2 in zip(Date, Years):\n",
    "  print(element_1, element_2)"
   ]
  },
  {
   "cell_type": "code",
   "execution_count": 128,
   "id": "25a7a674",
   "metadata": {},
   "outputs": [
    {
     "data": {
      "text/plain": [
       "[0, 1, 16, 81, 256]"
      ]
     },
     "execution_count": 128,
     "metadata": {},
     "output_type": "execute_result"
    }
   ],
   "source": [
    "# Créer une liste using range \n",
    "liste = []\n",
    "for i in range(5):\n",
    "  liste.append(i**4)\n",
    "liste"
   ]
  },
  {
   "cell_type": "code",
   "execution_count": 129,
   "id": "84be3192",
   "metadata": {},
   "outputs": [
    {
     "data": {
      "text/plain": [
       "[0, 1, 16, 81, 256]"
      ]
     },
     "execution_count": 129,
     "metadata": {},
     "output_type": "execute_result"
    }
   ],
   "source": [
    "liste1 = [i**4 for i in range(5)]\n",
    "liste1"
   ]
  },
  {
   "cell_type": "markdown",
   "id": "67949e0a",
   "metadata": {},
   "source": [
    "# Dictionnaires"
   ]
  },
  {
   "cell_type": "markdown",
   "id": "ae03ff2f",
   "metadata": {},
   "source": [
    "- Les dictionnaires sont des structures de controle **non-ordonnées**, \n",
    "c'est-a-dire que les valeurs qu'ils contiennent ne sont pas **rangée** selon un index, mais suivant une **clef unique**.\n",
    "\n",
    "- Une utilisation parfaite des dictionnaires est pour regrouper ensemble des \"variables\" dans un meme conténaire.\n",
    "\n",
    "- Ces variables ne sont pas de vraies variables, mais des **keys**."
   ]
  },
  {
   "cell_type": "code",
   "execution_count": 130,
   "id": "f5f7edf3",
   "metadata": {},
   "outputs": [
    {
     "data": {
      "text/plain": [
       "{'pommes': 100, 'bananes': 80, 'poires': 120, 'orange': 90}"
      ]
     },
     "execution_count": 130,
     "metadata": {},
     "output_type": "execute_result"
    }
   ],
   "source": [
    "Prix_Fruit = {'pommes': 100,\n",
    "              'bananes': 80,\n",
    "              'poires': 120, \n",
    "              'orange': 90}\n",
    "Prix_Fruit\n",
    "# pommes ->  100\n",
    "# bananes -> 80\n",
    "# poires ->  120 \n",
    "# orange -> 90\n"
   ]
  },
  {
   "cell_type": "code",
   "execution_count": 131,
   "id": "5576a04e",
   "metadata": {},
   "outputs": [
    {
     "data": {
      "text/plain": [
       "dict_values([100, 80, 120, 90])"
      ]
     },
     "execution_count": 131,
     "metadata": {},
     "output_type": "execute_result"
    }
   ],
   "source": [
    "Prix_Fruit.values()# les valeurs "
   ]
  },
  {
   "cell_type": "code",
   "execution_count": 132,
   "id": "450edcb5",
   "metadata": {},
   "outputs": [
    {
     "data": {
      "text/plain": [
       "dict_keys(['pommes', 'bananes', 'poires', 'orange'])"
      ]
     },
     "execution_count": 132,
     "metadata": {},
     "output_type": "execute_result"
    }
   ],
   "source": [
    "Prix_Fruit.keys()# Les clés"
   ]
  },
  {
   "cell_type": "code",
   "execution_count": 133,
   "id": "16395ee3",
   "metadata": {},
   "outputs": [
    {
     "data": {
      "text/plain": [
       "4"
      ]
     },
     "execution_count": 133,
     "metadata": {},
     "output_type": "execute_result"
    }
   ],
   "source": [
    "len(Prix_Fruit)# size "
   ]
  },
  {
   "cell_type": "code",
   "execution_count": 134,
   "id": "20c7726a",
   "metadata": {},
   "outputs": [
    {
     "data": {
      "text/plain": [
       "{'pommes': 100, 'bananes': 80, 'poires': 120, 'orange': 90, 'abricots': 30}"
      ]
     },
     "execution_count": 134,
     "metadata": {},
     "output_type": "execute_result"
    }
   ],
   "source": [
    "Prix_Fruit['abricots'] = 30# ajouter une association key/value dans notre dictionnaire \n",
    "Prix_Fruit"
   ]
  },
  {
   "cell_type": "code",
   "execution_count": 135,
   "id": "b084b566",
   "metadata": {},
   "outputs": [
    {
     "data": {
      "text/plain": [
       "30"
      ]
     },
     "execution_count": 135,
     "metadata": {},
     "output_type": "execute_result"
    }
   ],
   "source": [
    "Prix_Fruit.get('abricots') # la valeur du dictionnaire -> au clé Pommes"
   ]
  },
  {
   "cell_type": "code",
   "execution_count": 136,
   "id": "e33a6afb",
   "metadata": {},
   "outputs": [
    {
     "data": {
      "text/plain": [
       "30"
      ]
     },
     "execution_count": 136,
     "metadata": {},
     "output_type": "execute_result"
    }
   ],
   "source": [
    "#remove an element, you can use a pop()\n",
    "Prix_Fruit.pop('abricots')\n"
   ]
  },
  {
   "cell_type": "code",
   "execution_count": 137,
   "id": "aa6f07f4",
   "metadata": {},
   "outputs": [
    {
     "name": "stdout",
     "output_type": "stream",
     "text": [
      "pommes 100\n",
      "bananes 80\n",
      "poires 120\n",
      "orange 90\n"
     ]
    }
   ],
   "source": [
    "# items <-> enumerate pour les listes \n",
    "for key, value in Prix_Fruit.items():\n",
    "  print(key, value)"
   ]
  },
  {
   "cell_type": "code",
   "execution_count": 138,
   "id": "cb96135b",
   "metadata": {},
   "outputs": [],
   "source": [
    "Signe_type = {'négatifs':[],\n",
    "            'positifs':[]\n",
    "            }\n",
    "\n",
    "\n",
    "def valeur(arg1,arg2,arg3): \n",
    "    valeur = [arg1,arg2,arg3 ]\n",
    "    return valeur\n"
   ]
  },
  {
   "cell_type": "code",
   "execution_count": 139,
   "id": "f67e1d41",
   "metadata": {},
   "outputs": [
    {
     "data": {
      "text/plain": [
       "{'négatifs': [], 'positifs': [3]}"
      ]
     },
     "execution_count": 139,
     "metadata": {},
     "output_type": "execute_result"
    }
   ],
   "source": [
    "def trier(Signe_type, valeur):\n",
    "  if valeur >=0:\n",
    "    Signe_type['positifs'].append(valeur)\n",
    "  else:\n",
    "    Signe_type['négatifs'].append(valeur)\n",
    "  return Signe_type\n",
    "trier(Signe_type,3)"
   ]
  },
  {
   "cell_type": "code",
   "execution_count": 140,
   "id": "82c56517",
   "metadata": {},
   "outputs": [
    {
     "data": {
      "text/plain": [
       "{1: 1, 2: 8, 3: 27, 4: 64}"
      ]
     },
     "execution_count": 140,
     "metadata": {},
     "output_type": "execute_result"
    }
   ],
   "source": [
    "dictionnaire = {k : k**3 for k in range(1, 5)}\n",
    "dictionnaire"
   ]
  }
 ],
 "metadata": {
  "kernelspec": {
   "display_name": "Python 3",
   "language": "python",
   "name": "python3"
  },
  "language_info": {
   "codemirror_mode": {
    "name": "ipython",
    "version": 3
   },
   "file_extension": ".py",
   "mimetype": "text/x-python",
   "name": "python",
   "nbconvert_exporter": "python",
   "pygments_lexer": "ipython3",
   "version": "3.8.8"
  }
 },
 "nbformat": 4,
 "nbformat_minor": 5
}
