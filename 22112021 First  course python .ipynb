{
 "cells": [
  {
   "cell_type": "markdown",
   "id": "c318d0ae",
   "metadata": {},
   "source": [
    "## Python Definition "
   ]
  },
  {
   "cell_type": "markdown",
   "id": "6483aa74",
   "metadata": {},
   "source": [
    "# History and definition \n",
    "- Python est un langage de programmation, dont la première version est sortie en 1991. Créé par Guido van Rossum.\n",
    "- Devénir utilisable  en 2001. \n",
    "- Il  est assez généraliste, c’est-à-dire qu’il est à peu près possible de tout faire avec le  : des sites et applications web, des applications mobiles, des scripts personnels, des applications de bureau, de l’analyse de données et même des jeux vidéo.....!\n",
    "# Avantages\n",
    "- Facile à apprendre et riche en possibilités, **interprété**.\n",
    "- Pour le Data: Python est le langage le plus utilisé, en particulier pour les traitements et manipulations de données, la data visualisation et le développement d’algorithmes d’intelligence artificielle.\n",
    "# Applications\n",
    "- Instagram est codé en Python ;\n",
    "-  langage  principal utilisé  par les ingénieurs de chez Google.\n",
    "- Netflix utilise Python pour l’élaboration de ses algorithmes de recommandation ;\n",
    "- l’application bureau de Dropbox est développée en Python ;\n",
    "- Reddit est codé en Python.\n",
    "- Ted est codé en Python.\n",
    "- IBM, Amazon .......\n",
    "\n",
    " \n"
   ]
  },
  {
   "cell_type": "raw",
   "id": "0aff3124",
   "metadata": {},
   "source": [
    "# Installer  Python"
   ]
  },
  {
   "cell_type": "markdown",
   "id": "b08ab4e2",
   "metadata": {},
   "source": [
    "# Anaconda\n",
    "- **Anaconda** est la meilleure distribution de Python pour faire du *machine learning* \n",
    "- *Anaconda est une distribution scientifique de Python : c’est-à-dire qu’en installant Anaconda, vous installerez Python, *Jupyter Notebook*, *Spyder* et des dizaines de packages scientifiques, dont certains indispensables à *l’analyse de données* !\n",
    "- *Anaconda* regroupe un ensemble d'outils gravitant autour des langages de programmation Python et R : il fournit notamment les deux environnements d'exécution. Cette distribution de Python est orientée « Data Science » (science des données) et « Machine Learning » (l'apprentissage automatique) : dans ces domaines, elle est certainement la plus populaire.\n",
    "# Installer Anaconda\n",
    "-Pour installer Anaconda sur votre machine, il suffit de vous rendre sur le site officiel et de télécharger la version la plus récente de Python. \n",
    "\n",
    "# Les liens pour telechrger   Anoconda \n",
    "\n",
    "- https://www.anaconda.com/distribution/\n",
    "- https://www.anaconda.com/products/ind...\n",
    "- https://www.anaconda.com/products/individual\n",
    "# Suite d'installation \n",
    "* Répondez aux différentes questions (les options par défaut suffisent !). Une fois l’installation terminée, vous pouvez vérifier que celle-ci s’est bien passée en lançant l’application Jupyter Notebook.\n",
    "* Sous macOS, lancez Anaconda Navigator via le Launchpad.\n",
    "\n",
    "\n",
    "\n",
    "\n"
   ]
  },
  {
   "cell_type": "markdown",
   "id": "88dfca25",
   "metadata": {},
   "source": [
    "# Jupyter Notebook"
   ]
  },
  {
   "cell_type": "markdown",
   "id": "c94cf94a",
   "metadata": {},
   "source": [
    "# Definition \n",
    "- Jupyter Notebook est une application web qui vous permet de stocker des lignes de code Python.\n",
    "# Avantages \n",
    "- Jupyter Notebook est un outil puissant qui permet aux utilisateurs du langage Python de créer et de partager des documents interactifs contenant du code dynamique et exécutable, des visualisations de contenus, des textes de documentation et des équations.\n",
    "- Jupyter Notebook est une application très populaire pour l’ensemble des personnes travaillant dans l’analyse de données. Il permet à une équipe de pouvoir créer et partager des rapports sous forme de document/code, facilitant ainsi la productivité et la collaboration.\n",
    "\n"
   ]
  },
  {
   "cell_type": "markdown",
   "id": "bb116d4a",
   "metadata": {},
   "source": [
    "# Les formats  du Jupyter\n",
    "\n",
    "#  Format Code \n",
    "- *Code* – la cellule de code classique. Celle-ci est réservée pour l’écriture et l’exécution de code Python.\n",
    "# Format  Markdown\n",
    "- *Markdown* – cellule de texte qui sert essentiellement à la documentation du notebook, pour y rédiger des commentaires, des titres, des équations, etc. Ce type permet de structurer votre texte en utilisant les balises HTML ou la syntaxe Markdown."
   ]
  },
  {
   "cell_type": "markdown",
   "id": "6230970f",
   "metadata": {},
   "source": [
    "# Spyder\n",
    "# Definition \n",
    "- Spyder est un environnement de développement pour Python. \n",
    "\n",
    "# L'environnement  spyder\n",
    "-L'environnement spyder présente 4  fenêtres: \n",
    "\n",
    "-la fenêtre de gauche est l'éditeur de scripts, comme celui de R.\n",
    "\n",
    "-La fenêtre de droite au bas est la console Ipython qui permet d'entrer les commandes lignes par lignes, comme dans la fenêtre de commande de R. \n",
    "\n",
    "-Celle du haut à droite a trois onglets qui permettent de voir les fichiers, les variables et les objets python same with R. \n",
    "\n",
    "-L'environnement devrait être assez confortable pour les utilisateurs de R. Vous pouvez constater que la console Ipython ci-haut a démarré en effectuant certaines commandes.\n"
   ]
  },
  {
   "cell_type": "markdown",
   "id": "a51911b4",
   "metadata": {},
   "source": [
    "# Variables\n",
    "\n",
    "-Une *variable* est composée de deux éléments : nom et sa valeur.\n",
    "\n",
    "-L’attribution d’une valeur à une variable s’appelle une affectation.\n",
    "\n",
    "- La valeur d’une variable peut être modifiée.\n",
    "\n",
    "- Le type d’une variable dépend de sa valeur.\n",
    "\n",
    "- Les noms de vos variables doivent être clairs, explicites et doivent suivre une convention typographique.\n",
    "-  **syntaxe** :  nom_de_variable = valeur.\n",
    "- same R \n"
   ]
  },
  {
   "cell_type": "markdown",
   "id": "11502526",
   "metadata": {},
   "source": [
    "# Variables et Operations\n",
    "**Il existe 4 grands types de variables**\n",
    "\n",
    "-int (nombre entier)\n",
    "\n",
    "-float (nombre décimal)\n",
    "\n",
    "-string (chaine de characteres)\n",
    "\n",
    "-bool (booléen)"
   ]
  },
  {
   "cell_type": "markdown",
   "id": "1a924aef",
   "metadata": {},
   "source": [
    "# Les  Variables "
   ]
  },
  {
   "cell_type": "code",
   "execution_count": 45,
   "id": "ee1ef72b",
   "metadata": {},
   "outputs": [
    {
     "data": {
      "text/plain": [
       "(3, 2.5, 'Ebnou Abdem ', True)"
      ]
     },
     "execution_count": 45,
     "metadata": {},
     "output_type": "execute_result"
    }
   ],
   "source": [
    "x = 3 # type int \n",
    "y = 2.5 # type float\n",
    "prenom = 'Ebnou Abdem ' # type string = chaînes de caractères\n",
    "z = True # type Bool\n",
    "x, y, prenom, z"
   ]
  },
  {
   "cell_type": "markdown",
   "id": "7b12af37",
   "metadata": {},
   "source": [
    "# Types of variables "
   ]
  },
  {
   "cell_type": "code",
   "execution_count": 46,
   "id": "cd99226b",
   "metadata": {},
   "outputs": [
    {
     "data": {
      "text/plain": [
       "(int, float, str, bool)"
      ]
     },
     "execution_count": 46,
     "metadata": {},
     "output_type": "execute_result"
    }
   ],
   "source": [
    "type(x), type(y), type(prenom), type(z)"
   ]
  },
  {
   "cell_type": "markdown",
   "id": "d852995e",
   "metadata": {},
   "source": [
    "# Concatenate  two strings "
   ]
  },
  {
   "cell_type": "code",
   "execution_count": 47,
   "id": "b31f0014",
   "metadata": {},
   "outputs": [
    {
     "name": "stdout",
     "output_type": "stream",
     "text": [
      "Ebnou Abdem  Seyid abdellahi\n"
     ]
    }
   ],
   "source": [
    "prenom = 'Ebnou Abdem '\n",
    "Nom  = 'Seyid abdellahi'\n",
    "Nom_complet  = prenom + \" \" + Nom \n",
    "print(Nom_complet)\n"
   ]
  },
  {
   "cell_type": "markdown",
   "id": "8631bdd9",
   "metadata": {},
   "source": [
    "# Concatenate a string with an integer "
   ]
  },
  {
   "cell_type": "code",
   "execution_count": 48,
   "id": "9cf0dced",
   "metadata": {},
   "outputs": [
    {
     "name": "stdout",
     "output_type": "stream",
     "text": [
      " Ebnou Abdem Seyid abdellahi á : 25\n"
     ]
    }
   ],
   "source": [
    "Age  = 25 \n",
    "Nom_complet  = \" Ebnou Abdem Seyid abdellahi á : \"\n",
    "#Age_and_Nom_complet = Nom_complet +  Age\n",
    "Age_and_Nom_complet = Nom_complet +  str(Age)\n",
    "print(Age_and_Nom_complet)"
   ]
  },
  {
   "cell_type": "markdown",
   "id": "e1dfc211",
   "metadata": {},
   "source": [
    "# Repeat a string"
   ]
  },
  {
   "cell_type": "code",
   "execution_count": 49,
   "id": "207ff9c7",
   "metadata": {},
   "outputs": [
    {
     "name": "stdout",
     "output_type": "stream",
     "text": [
      "Oui Oui ça ira inchallah Oui Oui ça ira inchallah Oui Oui ça ira inchallah \n"
     ]
    }
   ],
   "source": [
    "string1 = 'Oui '\n",
    "string2 =  string1* 2 + 'ça ira inchallah ' \n",
    "print(string2 * 3)"
   ]
  },
  {
   "cell_type": "markdown",
   "id": "b7053805",
   "metadata": {},
   "source": [
    "# Première lettre en majuscule"
   ]
  },
  {
   "cell_type": "code",
   "execution_count": 50,
   "id": "4c179d7f",
   "metadata": {},
   "outputs": [
    {
     "data": {
      "text/plain": [
       "'Seyid'"
      ]
     },
     "execution_count": 50,
     "metadata": {},
     "output_type": "execute_result"
    }
   ],
   "source": [
    "str.capitalize('seyid')# return the same string, but the first lettre majuscule"
   ]
  },
  {
   "cell_type": "markdown",
   "id": "9b77727d",
   "metadata": {},
   "source": [
    "## Opérations arithmétiques"
   ]
  },
  {
   "cell_type": "code",
   "execution_count": 51,
   "id": "eea35f11",
   "metadata": {},
   "outputs": [
    {
     "name": "stdout",
     "output_type": "stream",
     "text": [
      "x + y = 5.5\n",
      "x - y = 0.5\n",
      "x / y = 1.2\n",
      "x * y = 7.5\n",
      "x ^ y = 15.588457268119896\n"
     ]
    }
   ],
   "source": [
    "print('x + y =', x + y)\n",
    "print('x - y =', x - y)\n",
    "print('x / y =', x / y)\n",
    "print('x * y =', x * y)\n",
    "print('x ^ y =', x ** y) # x puissance y"
   ]
  },
  {
   "cell_type": "markdown",
   "id": "858e95b1",
   "metadata": {},
   "source": [
    "# Les comparaison"
   ]
  },
  {
   "cell_type": "code",
   "execution_count": 52,
   "id": "1d21e665",
   "metadata": {},
   "outputs": [
    {
     "name": "stdout",
     "output_type": "stream",
     "text": [
      "égalité : False\n",
      "inégalité : True\n",
      "inférieur ou égal : False\n",
      "supérieur ou égal : True\n"
     ]
    }
   ],
   "source": [
    "print('égalité :', x == y)\n",
    "print('inégalité :', x != y)\n",
    "print('inférieur ou égal :', x <= y)\n",
    "print('supérieur ou égal :', x >= y)"
   ]
  },
  {
   "cell_type": "markdown",
   "id": "810c8529",
   "metadata": {},
   "source": [
    "# Les logiques( operations)\n"
   ]
  },
  {
   "cell_type": "code",
   "execution_count": 44,
   "id": "210d9dbf",
   "metadata": {},
   "outputs": [
    {
     "name": "stdout",
     "output_type": "stream",
     "text": [
      "ET : False\n",
      "OU : True\n",
      "OU exclusif : True\n"
     ]
    }
   ],
   "source": [
    "print('ET :', False and True)\n",
    "print('OU :', False or True)\n",
    "print('OU exclusif :', False ^ True)"
   ]
  },
  {
   "cell_type": "markdown",
   "id": "d4b8a2fb",
   "metadata": {},
   "source": [
    "# Les fonctions utiles pour l'analyse de données"
   ]
  },
  {
   "cell_type": "code",
   "execution_count": 62,
   "id": "d729f19b",
   "metadata": {},
   "outputs": [
    {
     "data": {
      "text/plain": [
       "33"
      ]
     },
     "execution_count": 62,
     "metadata": {},
     "output_type": "execute_result"
    }
   ],
   "source": [
    "Nom_complet  = \" Ebnou Abdem Seyid abdellahi á : \"\n",
    "len(Nom_complet )# une fonction qui renvoie la longueur d’un élément\n",
    "#type(Nom_complet)#  permet d’afficher le type d’une variable\n",
    "#pow(12, 15)# permet de calculer la  puissance \n",
    "#abs(-12) # retourne la valeur absolue d’un nombre."
   ]
  },
  {
   "cell_type": "markdown",
   "id": "0399327c",
   "metadata": {},
   "source": [
    "# fonction anonyme\n",
    "- Une fonction anonyme est une fonction créée avec lambda.\n",
    "\n",
    "- Ce type de fonction est basique et est utile pour etre intégrée au milieu de structures de controles.\n",
    "\n",
    "-  Ce type de fonction est basique et est utile pour etre intégrée au milieu de structures de controles ou bien d'autres fonctions. On l'utili\n",
    "se rarement.\n"
   ]
  },
  {
   "cell_type": "markdown",
   "id": "168104a3",
   "metadata": {},
   "source": [
    "# Exemple d'une fonction f(x) = x^2\n",
    " "
   ]
  },
  {
   "cell_type": "code",
   "execution_count": 65,
   "id": "53fafd85",
   "metadata": {},
   "outputs": [
    {
     "data": {
      "text/plain": [
       "64"
      ]
     },
     "execution_count": 65,
     "metadata": {},
     "output_type": "execute_result"
    }
   ],
   "source": [
    "Squart = lambda x : x**2\n",
    "Squart(8)"
   ]
  },
  {
   "cell_type": "markdown",
   "id": "563ca8e0",
   "metadata": {},
   "source": [
    "# Exemple d'une fonction g(x, y) = x^2 - y^2"
   ]
  },
  {
   "cell_type": "code",
   "execution_count": 69,
   "id": "284ef791",
   "metadata": {},
   "outputs": [
    {
     "data": {
      "text/plain": [
       "28"
      ]
     },
     "execution_count": 69,
     "metadata": {},
     "output_type": "execute_result"
    }
   ],
   "source": [
    "Squart_2= lambda x,y  : x**2 - y**2\n",
    "Squart_2(8,6)"
   ]
  },
  {
   "cell_type": "markdown",
   "id": "cde52dfc",
   "metadata": {},
   "source": [
    "# Propres fonctions"
   ]
  },
  {
   "cell_type": "markdown",
   "id": "2a180042",
   "metadata": {},
   "source": [
    "- Une fonction a un nom, prend des entrées (arguments) et les transforme pour retourner un résultat.\n",
    "- Une fonction est définie via le mot clé  **def**  suivi du  **nom de la fonction**. \n",
    "- L’ensemble des instructions associées à cette fonction seront ensuite écrites à la suite des ** deux points**.\n",
    "- **L’indentation** est un principe fondamental en Python c'est comme {} dans R. Généralement, il se traduit par 4 espaces ou une tabulation."
   ]
  },
  {
   "cell_type": "markdown",
   "id": "8a2e90d5",
   "metadata": {},
   "source": [
    "# Syntaxe  d'une fonction "
   ]
  },
  {
   "cell_type": "raw",
   "id": "5a84eaaf",
   "metadata": {},
   "source": [
    "def nomFonction():\n",
    "    # instructions \n",
    "    # pouvant aller\n",
    "    # sur plusieurs\n",
    "    # lignes"
   ]
  },
  {
   "cell_type": "markdown",
   "id": "7cb1a874",
   "metadata": {},
   "source": [
    "# Exemple "
   ]
  },
  {
   "cell_type": "code",
   "execution_count": 73,
   "id": "634d0690",
   "metadata": {},
   "outputs": [
    {
     "data": {
      "text/plain": [
       "9"
      ]
     },
     "execution_count": 73,
     "metadata": {},
     "output_type": "execute_result"
    }
   ],
   "source": [
    "def nom_de_la_fonction( argument_1, argument_2, argument_n):\n",
    "    resultat= argument_1+ argument_2+ argument_n# instructions \n",
    "    return resultat# exactement dans R\n",
    "nom_de_la_fonction(2,3,4)"
   ]
  },
  {
   "cell_type": "markdown",
   "id": "d5c1e006",
   "metadata": {},
   "source": [
    "# Fonction sans argument "
   ]
  },
  {
   "cell_type": "code",
   "execution_count": 77,
   "id": "c17897e3",
   "metadata": {},
   "outputs": [
    {
     "name": "stdout",
     "output_type": "stream",
     "text": [
      "Bonjour\n"
     ]
    }
   ],
   "source": [
    "def Bonjour(Bonjour):\n",
    "    print(\"Bonjour\")\n",
    "Bonjour(\"e\")# sans argument "
   ]
  },
  {
   "cell_type": "markdown",
   "id": "179de729",
   "metadata": {},
   "source": [
    "# Exemple 2 "
   ]
  },
  {
   "cell_type": "code",
   "execution_count": 79,
   "id": "4882ef89",
   "metadata": {},
   "outputs": [
    {
     "name": "stdout",
     "output_type": "stream",
     "text": [
      "6\n"
     ]
    }
   ],
   "source": [
    "def differance(x,y, w): \n",
    "    print(x-y-w)\n",
    "differance(1,-2,-3)"
   ]
  }
 ],
 "metadata": {
  "kernelspec": {
   "display_name": "Python 3",
   "language": "python",
   "name": "python3"
  },
  "language_info": {
   "codemirror_mode": {
    "name": "ipython",
    "version": 3
   },
   "file_extension": ".py",
   "mimetype": "text/x-python",
   "name": "python",
   "nbconvert_exporter": "python",
   "pygments_lexer": "ipython3",
   "version": "3.8.8"
  }
 },
 "nbformat": 4,
 "nbformat_minor": 5
}
